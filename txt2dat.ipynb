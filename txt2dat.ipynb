{
 "cells": [
  {
   "cell_type": "code",
   "execution_count": 1,
   "metadata": {},
   "outputs": [
    {
     "name": "stdin",
     "output_type": "stream",
     "text": [
      "请输入待提取处理的源文件名（包含路径和文件扩展名，不需要加单引号括起来，回车键确认）： ./Data/statfile.0\n",
      "请问需要提取源文件的第几行到第几行的数据。现在输入起始行： 1501183\n",
      "然后输入结束行： 1501282\n",
      "请输入从起始行到结束行中一共想要输出的列数，回车键确认： 1\n",
      "请依次输入相应的列序号(每次输入一个即可，回车键确认)： 6\n"
     ]
    },
    {
     "name": "stdout",
     "output_type": "stream",
     "text": [
      "需要输出的列序号如下： [6]\n"
     ]
    },
    {
     "name": "stdin",
     "output_type": "stream",
     "text": [
      "请输入处理完之后的新文件名（包含路径和文件扩展名，不需要加单引号括起来，回车键确认）： ./Data/excitation_energy_Ry.dat\n",
      "已输出想要输出的列并报存到新文件。是否需要继续处理其它文件？(Y/N)，回车键确认： N\n"
     ]
    }
   ],
   "source": [
    "# 此文件是写好的程序包，可以直接用来输出你想想要的文件里面的特定段落的某些列                     \n",
    "####                                                   -----Edited by Owleeve  ^_^  \n",
    "##\n",
    "def readfile(inputfile,outputfile,Col_list,start_row,end_row):   #List包含想要输出的哪些列\n",
    "    with open(inputfile,\"r\") as inputf:  \n",
    "        row=1     #设定行数初始序列号\n",
    "        for inputline in inputf.readlines(): #read中读取的原文件里面的数据是全是是str，所以后面想要输出int、float需要转换。originlab可以自动把 str数据转化为float型\n",
    "            if row >= start_row and row <= end_row:\n",
    "                inputline = inputline.split()      #split()可以将那些常见分隔按照逗号分隔，输出为str格式的[, , , , ,]\n",
    "                outputline = open(outputfile,\"a\")  # a代表可以往文件里append内容\n",
    "                for i in range(len(Col_list)):\n",
    "                    num=Col_list[i]\n",
    "                    #data=float(inputline[num-1])       #将单个str转换为float。需要将浮点转换为文本，以便能够将其写入文本文件。\n",
    "                    data=inputline[num-1]                \n",
    "                    if i == len(Col_list)-1:\n",
    "                        outputline.write(data+\"\\n\")  #在outputline最后一行打上换行符是\\n\n",
    "                    else:\n",
    "                        outputline.write(data+\" \")  #python中空格就是空一格，换行符是\\n,tab键是\\t\n",
    "                row=row+1\n",
    "            else:\n",
    "                row=row+1    \n",
    "        outputline.close()\n",
    "        inputf.close()\n",
    "while True:\n",
    "    InputFileName=input(\"请输入待提取处理的源文件名（包含路径和文件扩展名，不需要加单引号括起来，回车键确认）：\")\n",
    "    Start_Row=input(\"请问需要提取源文件的第几行到第几行的数据。现在输入起始行：\")\n",
    "    End_Row=input(\"然后输入结束行：\")\n",
    "    Start_Row=int(Start_Row)\n",
    "    End_Row=int(End_Row)\n",
    "    Num_of_Columns=input(\"请输入从起始行到结束行中一共想要输出的列数，回车键确认：\")\n",
    "    Num_of_Columns=int(Num_of_Columns)   #将单个str转换为int\n",
    "    List=[]  #想要输出的哪些列\n",
    "    for i in range(Num_of_Columns):\n",
    "        Col=input(\"请依次输入相应的列序号(每次输入一个即可，回车键确认)：\")\n",
    "        List.append(Col)\n",
    "    List=list(map(int,List))  #将list中的str转换为int，list是一种函数\n",
    "    print(\"需要输出的列序号如下：\",List)\n",
    "    OutputFilename=input(\"请输入处理完之后的新文件名（包含路径和文件扩展名，不需要加单引号括起来，回车键确认）：\")\n",
    "    readfile(InputFileName,OutputFilename,List,Start_Row,End_Row)\n",
    "    kkk=input(\"已输出想要输出的列并报存到新文件。是否需要继续处理其它文件？(Y/N)，回车键确认：\")\n",
    "    if kkk==\"N\" or kkk=='n':\n",
    "        break "
   ]
  },
  {
   "cell_type": "code",
   "execution_count": null,
   "metadata": {},
   "outputs": [],
   "source": []
  },
  {
   "cell_type": "markdown",
   "metadata": {},
   "source": [
    "statfileBi0.0 17121 18720 eigValSBi0.dat\n",
    "123025"
   ]
  },
  {
   "cell_type": "markdown",
   "metadata": {},
   "source": [
    "22943,23042"
   ]
  },
  {
   "cell_type": "code",
   "execution_count": 1,
   "metadata": {},
   "outputs": [],
   "source": [
    "import sympy\n",
    "\n",
    "# 创建符号变量\n",
    "n1,U1,x1, x2, x3,x4,x5 = sympy.symbols('n1 U1 x1 x2 x3 x4 x5')\n",
    "\n",
    "# 创建数学表达式\n",
    "f1 = n1 - 2*x2**2 - 2*x3**2\n",
    "f2 = 1 - x1**2 - x3**2-2*x2**2\n",
    "f3 = x5*x1 - (x3 + x1)*(x2**2)*(1 + x1*x3 - x2**2)\\\n",
    "/((1-x3**2 - x2**2)*((1-x1**2 - x2**2)**2))\n",
    "f4 = (U1 - 2*x4 + x5)*x3 - (x3 + x1)*(x2**2)*(1 + x1*x3 - x2**2)\\\n",
    "/(((1-x2**2 - x3**2)**2)*(1-x1**2 - x2**2))\n",
    "f5 = 2*(-x4 + x5)*x2 - ((x1 + x3)**2)*x2*((1 - x1**2)*(1 - x3**2)-x2**4)\\\n",
    "/(((1-x2**2 - x3**2)**2)*((1-x1**2 - x2**2)**2))"
   ]
  },
  {
   "cell_type": "code",
   "execution_count": 4,
   "metadata": {},
   "outputs": [
    {
     "data": {
      "text/latex": [
       "$\\displaystyle n_{1} - 2 x_{2}^{2} - 2 x_{3}^{2}$"
      ],
      "text/plain": [
       "n1 - 2*x2**2 - 2*x3**2"
      ]
     },
     "execution_count": 4,
     "metadata": {},
     "output_type": "execute_result"
    }
   ],
   "source": [
    "f1"
   ]
  },
  {
   "cell_type": "code",
   "execution_count": 5,
   "metadata": {},
   "outputs": [
    {
     "data": {
      "text/latex": [
       "$\\displaystyle - x_{1}^{2} - 2 x_{2}^{2} - x_{3}^{2} + 1$"
      ],
      "text/plain": [
       "-x1**2 - 2*x2**2 - x3**2 + 1"
      ]
     },
     "execution_count": 5,
     "metadata": {},
     "output_type": "execute_result"
    }
   ],
   "source": [
    "f2"
   ]
  },
  {
   "cell_type": "code",
   "execution_count": 6,
   "metadata": {},
   "outputs": [
    {
     "data": {
      "text/latex": [
       "$\\displaystyle x_{1} x_{5} - \\frac{x_{2}^{2} \\left(x_{1} + x_{3}\\right) \\left(x_{1} x_{3} - x_{2}^{2} + 1\\right)}{\\left(- x_{1}^{2} - x_{2}^{2} + 1\\right)^{2} \\left(- x_{2}^{2} - x_{3}^{2} + 1\\right)}$"
      ],
      "text/plain": [
       "x1*x5 - x2**2*(x1 + x3)*(x1*x3 - x2**2 + 1)/((-x1**2 - x2**2 + 1)**2*(-x2**2 - x3**2 + 1))"
      ]
     },
     "execution_count": 6,
     "metadata": {},
     "output_type": "execute_result"
    }
   ],
   "source": [
    "f3"
   ]
  },
  {
   "cell_type": "code",
   "execution_count": null,
   "metadata": {},
   "outputs": [],
   "source": []
  },
  {
   "cell_type": "code",
   "execution_count": null,
   "metadata": {},
   "outputs": [],
   "source": []
  }
 ],
 "metadata": {
  "kernelspec": {
   "display_name": "Python 3",
   "language": "python",
   "name": "python3"
  },
  "language_info": {
   "codemirror_mode": {
    "name": "ipython",
    "version": 3
   },
   "file_extension": ".py",
   "mimetype": "text/x-python",
   "name": "python",
   "nbconvert_exporter": "python",
   "pygments_lexer": "ipython3",
   "version": "3.8.5"
  }
 },
 "nbformat": 4,
 "nbformat_minor": 4
}
