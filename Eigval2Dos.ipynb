{
 "cells": [
  {
   "cell_type": "code",
   "execution_count": null,
   "metadata": {},
   "outputs": [],
   "source": [
    "####  此文件是写好的程序包，可以直接通过一系列Eigenvalue值生成DOS.dat文件。                     \n",
    "####                                                   -----Edited by Owleeve  ^_^  \n",
    "##\n",
    "import numpy as np  # 导入numpy库\n",
    "import math\n",
    "def data_process(inputfile,outputfile,num_x,unit):\n",
    "    eigval = np.loadtxt(inputfile)  # 获取数据\n",
    "    eigval=eigval*unit\n",
    "    sigma=0.08                      # 展宽\n",
    "    #Initialization\n",
    "    num_e=len(eigval)\n",
    "    emin=min(eigval)\n",
    "    emax=max(eigval)\n",
    "    xgrid=(emax-emin)/(num_x-1)\n",
    "    dos=np.zeros((num_x,2))\n",
    "    #Get the x distribution of the energy\n",
    "    for ix in range(num_x):\n",
    "        dos[ix][0]=emin+ix*xgrid\n",
    "    #Calculation DOS\n",
    "    for ie in range(num_e):\n",
    "        for ix in range(num_x):\n",
    "            delta_e=dos[ix][0]-eigval[ie]\n",
    "            #if(Gaussian)\n",
    "            dos[ix][1]=dos[ix][1]+1/(sigma*math.sqrt(2*math.pi))*math.exp(-math.pow(delta_e,2)/(2*math.pow(sigma,2)))\n",
    "            #if(Lorentzian)\n",
    "            #dos[ix][1]=dos[ix][1]+sigma/(math.pi*(math.pow(sigma,2)+math.pow(delta_e,2)))\n",
    "    np.savetxt(outputfile,dos)   \n",
    "while True:\n",
    "    InputFileName=input(\"请输入待提取处理的EigenValue源文件名（包含路径和文件扩展名，不需要加单引号括起来，回车键确认）：\")\n",
    "    kk=input(\"源文件里Eigenvalue的能量单位是au还是eV？现在将au单位制转换为eV单位制，是否需要转换？（Y/N）,回车键确认：\")\n",
    "    if kk==\"Y\" or kk==\"y\":\n",
    "        Unit=27.2114\n",
    "    else:\n",
    "        Unit=1\n",
    "    Num_of_Energy=input(\"请输入一共想要取多少个能量点，一般取1000，回车键确认：\")\n",
    "    Num_of_Energy=int(Num_of_Energy)   #将单个str转换为int\n",
    "    OutputFilename=input(\"请输入处理完之后的DOS新文件名（包含路径和文件扩展名，不需要加单引号括起来，回车键确认）：\")\n",
    "    data_process(InputFileName,OutputFilename,Num_of_Energy,Unit)\n",
    "    kkk=input(\"已处理完数据并生成新的DOS文件。是否需要继续处理其它数据文件？(Y/N)，回车键确认：\")\n",
    "    if kkk==\"N\" or kkk=='n':\n",
    "        break "
   ]
  },
  {
   "cell_type": "markdown",
   "metadata": {},
   "source": [
    "./Data/E.dat   ./Data/DOS.dat   "
   ]
  },
  {
   "cell_type": "code",
   "execution_count": null,
   "metadata": {},
   "outputs": [],
   "source": []
  }
 ],
 "metadata": {
  "kernelspec": {
   "display_name": "Python 3",
   "language": "python",
   "name": "python3"
  },
  "language_info": {
   "codemirror_mode": {
    "name": "ipython",
    "version": 3
   },
   "file_extension": ".py",
   "mimetype": "text/x-python",
   "name": "python",
   "nbconvert_exporter": "python",
   "pygments_lexer": "ipython3",
   "version": "3.8.5"
  }
 },
 "nbformat": 4,
 "nbformat_minor": 4
}
